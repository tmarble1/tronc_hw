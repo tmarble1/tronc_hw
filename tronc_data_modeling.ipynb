{
 "cells": [
  {
   "cell_type": "markdown",
   "metadata": {},
   "source": [
    "## Tronc Data Modeling Take Home Test: "
   ]
  },
  {
   "cell_type": "markdown",
   "metadata": {},
   "source": [
    "## Predicting the Performance of Facebook Posts"
   ]
  },
  {
   "cell_type": "markdown",
   "metadata": {},
   "source": [
    "This noteboook walks through a first iteration of attempting to predict the 'success' of facebook posts. We proxy success by using 'post_impressions_organic_unique' insights, and develop a feature space by processing the textual components of the post using TF_IDF Vectorization and  Latent Dirichlet Allocation (LDA) into a vector expressing the probabilistic relevance to a set of known 'topics.' The intuition is that certain topics will draw more interest than others and hence more shares and subsequent impressions.\n",
    "\n",
    "We will fit a Random Forest model to the transformed dataset and collect standard regression metrics such as Explained Variance and Mean Squared Error. "
   ]
  },
  {
   "cell_type": "markdown",
   "metadata": {},
   "source": [
    "### Libraries Used:"
   ]
  },
  {
   "cell_type": "markdown",
   "metadata": {},
   "source": [
    "- numpy\n",
    "- pandas\n",
    "- matplotlib\n",
    "- nltk\n",
    "- scipy\n",
    "- sklearn\n",
    "- nltk (requires corpus download - 'nltk.download()')\n"
   ]
  },
  {
   "cell_type": "markdown",
   "metadata": {},
   "source": [
    "Some imports:"
   ]
  },
  {
   "cell_type": "code",
   "execution_count": 182,
   "metadata": {
    "collapsed": true
   },
   "outputs": [],
   "source": [
    "% matplotlib inline\n",
    "from __future__ import print_function\n",
    "import json\n",
    "import numpy as np\n",
    "import pandas as pd\n",
    "import matplotlib.pyplot as plt\n",
    "import re\n",
    "import nltk\n",
    "\n",
    "from time import time\n",
    "from scipy import stats\n",
    "from sklearn.feature_extraction.text import TfidfVectorizer, CountVectorizer\n",
    "from sklearn.decomposition import NMF, LatentDirichletAllocation\n",
    "from sklearn.metrics import *\n",
    "\n",
    "from nltk.corpus import stopwords\n",
    "from nltk.stem.wordnet import WordNetLemmatizer\n",
    "from sklearn.feature_extraction.text import TfidfVectorizer, CountVectorizer\n",
    "from sklearn.decomposition import NMF\n",
    "\n",
    "from sklearn.preprocessing import StandardScaler\n",
    "from sklearn.metrics import mean_squared_error\n",
    "from sklearn.ensemble.forest import RandomForestRegressor\n",
    "\n",
    "import string"
   ]
  },
  {
   "cell_type": "markdown",
   "metadata": {},
   "source": [
    "We need to download the nltk corpora so that we have a list of stopwords. After executing the statement below, a window will popup for the NLTK downloader. I selected 'popular packages.' Do not select 'all corpora' unless you want Slavik languages and so forth as well."
   ]
  },
  {
   "cell_type": "code",
   "execution_count": 183,
   "metadata": {
    "collapsed": false
   },
   "outputs": [],
   "source": [
    "#nltk.download()"
   ]
  },
  {
   "cell_type": "markdown",
   "metadata": {},
   "source": [
    "### Load the Data"
   ]
  },
  {
   "cell_type": "code",
   "execution_count": 184,
   "metadata": {
    "collapsed": false
   },
   "outputs": [],
   "source": [
    "posts_filename = 'posts.json'\n",
    "\n",
    "def load_data(filename):\n",
    "    posts_list = []\n",
    "    posts_file = open(posts_filename, \"r\")\n",
    "    for line in posts_file:\n",
    "        post = json.loads(line)\n",
    "        posts_list.append(post)\n",
    "    return posts_list\n",
    "\n",
    "posts = load_data(posts_filename)"
   ]
  },
  {
   "cell_type": "markdown",
   "metadata": {},
   "source": [
    "### Data Exploration and Preprocessing"
   ]
  },
  {
   "cell_type": "markdown",
   "metadata": {},
   "source": [
    "Each JSON-formated record is loaded as a dictionary. With respect to the 'insights' item, there is a nested dictionary structure that we will have to unpack and flatten if we wish to generate a two-dimensional dataset. Lets take a look at the remainder of the items in a record"
   ]
  },
  {
   "cell_type": "code",
   "execution_count": 185,
   "metadata": {
    "collapsed": false
   },
   "outputs": [
    {
     "name": "stdout",
     "output_type": "stream",
     "text": [
      "\n",
      "description :\n",
      "About 20 western Virginia high school students were suspended Thursday after holding a rally to protest a new policy banning vehicles with Confederate flag symbols from the school parking lot and refusing to take off clothing displaying the symbol.\n",
      "\n",
      "created_time :\n",
      "2015-09-17T20:50:00+0000\n",
      "\n",
      "name :\n",
      "Students suspended for clothing displaying Confederate flag\n",
      "\n",
      "message :\n",
      "Do you think the Confederate flag should be banned in schools?\n",
      "\n",
      "picture :\n",
      "https://external.xx.fbcdn.net/safe_image.php?d=AQBqd75RrvZ_AE0R&w=130&h=130&url=https%3A%2F%2Fscontent.xx.fbcdn.net%2Fhphotos-xft1%2Fv%2Ft1.0-9%2F12036903_940695302665469_1677160858596008416_n.jpg%3Foh%3Dd671adcc1ed17e30f4014523117a848c%26oe%3D56A4D844&cfs=1&sx=220&sy=0&sw=440&sh=440\n",
      "\n",
      "link :\n",
      "http://www.komonews.com/news/national/Students-suspended-for-clothing-displaying-Confederate-flag-328092611.html\n",
      "\n",
      "link_to_post :\n",
      "http://facebook.com/114431401958534_940695755998757\n",
      "\n",
      "caption :\n",
      "komonews.com\n",
      "\n",
      "id :\n",
      "114431401958534_940695755998757\n"
     ]
    }
   ],
   "source": [
    "post = posts[0]\n",
    "featurenames_ex_insights = [ky for ky in post.keys() if ky!='insights' ]\n",
    "\n",
    "\n",
    "for ky in featurenames_ex_insights:\n",
    "        print()\n",
    "        print(ky, ':')\n",
    "        print(post[ky])\n"
   ]
  },
  {
   "cell_type": "markdown",
   "metadata": {},
   "source": [
    "Now lets take a look at the 'insights' item"
   ]
  },
  {
   "cell_type": "code",
   "execution_count": 94,
   "metadata": {
    "collapsed": false
   },
   "outputs": [
    {
     "data": {
      "text/plain": [
       "\"\\n# This is quite a mess when printed\\n\\nky = 'insights'\\nprint()\\nprint(ky, ':')\\nprint(post[ky])\\n\""
      ]
     },
     "execution_count": 94,
     "metadata": {},
     "output_type": "execute_result"
    }
   ],
   "source": [
    "\"\"\"\n",
    "# This is quite a mess when printed\n",
    "\n",
    "ky = 'insights'\n",
    "print()\n",
    "print(ky, ':')\n",
    "print(post[ky])\n",
    "\"\"\""
   ]
  },
  {
   "cell_type": "markdown",
   "metadata": {},
   "source": [
    "It turns out that the 'insights'  values are themselves nested dictionaries which we need to unpack further. We'll extract the relevant analytics and flatten these dictionaries to make the dataset two dimensional."
   ]
  },
  {
   "cell_type": "code",
   "execution_count": 95,
   "metadata": {
    "collapsed": false
   },
   "outputs": [],
   "source": [
    "def unpack_insights(post):\n",
    "    insights = post['insights']\n",
    "    new_insights = {}\n",
    "    for insight in insights:\n",
    "        value = insights[insight]['values'][0]['value']\n",
    "        if isinstance(value, dict):\n",
    "            for sub_ky in value:\n",
    "                new_ky = '{}_{}'.format(insight, sub_ky)\n",
    "                post[new_ky]=value[sub_ky]\n",
    "        else:\n",
    "            post[insight]=value\n",
    "    del post['insights']\n",
    "    return post\n"
   ]
  },
  {
   "cell_type": "code",
   "execution_count": 96,
   "metadata": {
    "collapsed": true
   },
   "outputs": [],
   "source": [
    "posts = [unpack_insights(post) for post in posts]\n"
   ]
  },
  {
   "cell_type": "markdown",
   "metadata": {},
   "source": [
    "Now let's take a look at the insights:"
   ]
  },
  {
   "cell_type": "code",
   "execution_count": 180,
   "metadata": {
    "collapsed": false
   },
   "outputs": [
    {
     "name": "stdout",
     "output_type": "stream",
     "text": [
      "post_impressions_viral_unique : 22\n",
      "post_story_adds_by_action_type_like : 6\n",
      "post_story_adds_by_action_type_unique_like : 6\n",
      "post_video_views_paid_unique : 0\n",
      "post_consumptions_by_type_unique_other clicks : 91\n",
      "post_video_views_autoplayed : 0\n",
      "post_video_complete_views_30s_clicked_to_play : 0\n",
      "post_video_complete_views_30s : 0\n",
      "post_impressions_fan_unique : 3566\n",
      "post_stories_by_action_type_share : 1\n",
      "post_story_adds_by_action_type_comment : 35\n",
      "post_story_adds_by_action_type_unique_share : 1\n",
      "post_story_adds_by_action_type_share : 1\n",
      "post_video_avg_time_watched : 0\n",
      "post_negative_feedback_by_type_hide_clicks : 2\n",
      "post_story_adds_unique : 38\n",
      "post_impressions_by_paid_non_paid_unpaid : 4072\n",
      "post_impressions_fan : 4037\n",
      "post_video_length : 0\n",
      "post_storytellers_by_action_type_like : 6\n",
      "post_stories_by_action_type_like : 6\n",
      "post_stories : 42\n",
      "post_impressions_paid : 0\n",
      "post_negative_feedback_unique : 2\n",
      "post_impressions_by_story_type_unique_other : 22\n",
      "post_impressions_fan_paid_unique : 0\n",
      "post_impressions_paid_unique : 0\n",
      "post_impressions_by_paid_non_paid_unique_paid : 0\n",
      "post_engaged_fan : 117\n",
      "post_negative_feedback : 2\n",
      "post_fan_reach : 3566\n",
      "post_video_complete_views_30s_paid : 0\n",
      "post_storytellers_by_action_type_share : 1\n",
      "post_video_complete_views_30s_organic : 0\n",
      "post_video_complete_views_paid_unique : 0\n",
      "post_video_views : 0\n",
      "post_negative_feedback_by_type_unique_hide_clicks : 2\n",
      "post_engaged_users : 117\n",
      "post_storytellers_by_action_type_comment : 31\n",
      "post_impressions_organic : 4042\n",
      "post_consumptions : 170\n",
      "post_impressions_viral : 30\n",
      "post_stories_by_action_type_comment : 35\n",
      "post_video_complete_views_30s_unique : 0\n",
      "post_consumptions_by_type_other clicks : 151\n",
      "post_impressions_by_story_type_other : 30\n",
      "post_video_complete_views_organic_unique : 0\n",
      "post_storytellers : 38\n",
      "post_consumptions_by_type_unique_link clicks : 19\n",
      "post_impressions_by_paid_non_paid_total : 4072\n",
      "post_impressions_fan_paid : 0\n",
      "post_video_complete_views_30s_autoplayed : 0\n",
      "post_video_views_unique : 0\n",
      "post_video_views_organic_unique : 0\n",
      "post_video_views_clicked_to_play : 0\n",
      "post_video_complete_views_paid : 0\n",
      "post_impressions_unique : 3583\n",
      "post_video_complete_views_organic : 0\n",
      "post_impressions_by_paid_non_paid_unique_unpaid : 3583\n",
      "post_impressions_by_paid_non_paid_unique_total : 3583\n",
      "post_consumptions_unique : 107\n",
      "post_story_adds : 42\n",
      "post_story_adds_by_action_type_unique_comment : 31\n",
      "post_impressions : 4072\n",
      "post_consumptions_by_type_link clicks : 19\n",
      "post_impressions_by_paid_non_paid_paid : 0\n",
      "post_impressions_organic_unique : 3572\n",
      "post_video_views_paid : 0\n",
      "post_video_views_organic : 0\n"
     ]
    }
   ],
   "source": [
    "post = posts[0]\n",
    "insights_featurenames = [ky for ky in post.keys() if ky not in featurenames_ex_insights]\n",
    "for ky in insights_featurenames:\n",
    "    print(ky, ':', post[ky])\n",
    "\n"
   ]
  },
  {
   "cell_type": "markdown",
   "metadata": {},
   "source": [
    "There are a number of metrics with which to judge the success of a post. Let try using just 'post_impressions_organic_unique' as a proxy for post success. \n",
    "\n",
    "Now let's load the list of dicts into pandas dataframe, and simplify the problem by pruning some extraneous columns likely to have relatively high entropy.\n"
   ]
  },
  {
   "cell_type": "code",
   "execution_count": 98,
   "metadata": {
    "collapsed": false
   },
   "outputs": [],
   "source": [
    "label_names = ['post_impressions_organic_unique', 'name', 'message', 'description']\n",
    "posts_df = pd.DataFrame(posts)\n",
    "posts_df = posts_df[label_names]"
   ]
  },
  {
   "cell_type": "code",
   "execution_count": 99,
   "metadata": {
    "collapsed": false
   },
   "outputs": [
    {
     "data": {
      "text/html": [
       "<div>\n",
       "<table border=\"1\" class=\"dataframe\">\n",
       "  <thead>\n",
       "    <tr style=\"text-align: right;\">\n",
       "      <th></th>\n",
       "      <th>post_impressions_organic_unique</th>\n",
       "      <th>name</th>\n",
       "      <th>message</th>\n",
       "      <th>description</th>\n",
       "    </tr>\n",
       "  </thead>\n",
       "  <tbody>\n",
       "    <tr>\n",
       "      <th>0</th>\n",
       "      <td>3572</td>\n",
       "      <td>Students suspended for clothing displaying Con...</td>\n",
       "      <td>Do you think the Confederate flag should be ba...</td>\n",
       "      <td>About 20 western Virginia high school students...</td>\n",
       "    </tr>\n",
       "    <tr>\n",
       "      <th>1</th>\n",
       "      <td>3607</td>\n",
       "      <td>Timeline Photos</td>\n",
       "      <td>Seattle Seahawks' Russell Wilson answered lots...</td>\n",
       "      <td>NaN</td>\n",
       "    </tr>\n",
       "    <tr>\n",
       "      <th>2</th>\n",
       "      <td>37558</td>\n",
       "      <td>New forecasts still say mild winter, hot summe...</td>\n",
       "      <td>It'll be a bummer for snow lovers, but warm-we...</td>\n",
       "      <td>Despite September looking like it will break o...</td>\n",
       "    </tr>\n",
       "  </tbody>\n",
       "</table>\n",
       "</div>"
      ],
      "text/plain": [
       "   post_impressions_organic_unique  \\\n",
       "0                             3572   \n",
       "1                             3607   \n",
       "2                            37558   \n",
       "\n",
       "                                                name  \\\n",
       "0  Students suspended for clothing displaying Con...   \n",
       "1                                    Timeline Photos   \n",
       "2  New forecasts still say mild winter, hot summe...   \n",
       "\n",
       "                                             message  \\\n",
       "0  Do you think the Confederate flag should be ba...   \n",
       "1  Seattle Seahawks' Russell Wilson answered lots...   \n",
       "2  It'll be a bummer for snow lovers, but warm-we...   \n",
       "\n",
       "                                         description  \n",
       "0  About 20 western Virginia high school students...  \n",
       "1                                                NaN  \n",
       "2  Despite September looking like it will break o...  "
      ]
     },
     "execution_count": 99,
     "metadata": {},
     "output_type": "execute_result"
    }
   ],
   "source": [
    "posts_df.head(3)"
   ]
  },
  {
   "cell_type": "code",
   "execution_count": 100,
   "metadata": {
    "collapsed": false
   },
   "outputs": [
    {
     "name": "stdout",
     "output_type": "stream",
     "text": [
      "<class 'pandas.core.frame.DataFrame'>\n",
      "RangeIndex: 8639 entries, 0 to 8638\n",
      "Data columns (total 4 columns):\n",
      "post_impressions_organic_unique    8639 non-null int64\n",
      "name                               7381 non-null object\n",
      "message                            8538 non-null object\n",
      "description                        4573 non-null object\n",
      "dtypes: int64(1), object(3)\n",
      "memory usage: 270.0+ KB\n"
     ]
    }
   ],
   "source": [
    "posts_df.info()"
   ]
  },
  {
   "cell_type": "markdown",
   "metadata": {},
   "source": [
    "We can see than some of the feature columns contain null values. Since these all should be strings, we'll just fill NaN's with the empty string ''"
   ]
  },
  {
   "cell_type": "code",
   "execution_count": 101,
   "metadata": {
    "collapsed": false
   },
   "outputs": [
    {
     "name": "stdout",
     "output_type": "stream",
     "text": [
      "<class 'pandas.core.frame.DataFrame'>\n",
      "RangeIndex: 8639 entries, 0 to 8638\n",
      "Data columns (total 4 columns):\n",
      "post_impressions_organic_unique    8639 non-null int64\n",
      "name                               8639 non-null object\n",
      "message                            8639 non-null object\n",
      "description                        8639 non-null object\n",
      "dtypes: int64(1), object(3)\n",
      "memory usage: 270.0+ KB\n"
     ]
    }
   ],
   "source": [
    "feature_names = ['name', 'message', 'description']\n",
    "posts_df[feature_names] = posts_df[feature_names].fillna('')\n",
    "posts_df.info()"
   ]
  },
  {
   "cell_type": "markdown",
   "metadata": {},
   "source": [
    "OK, now we are good."
   ]
  },
  {
   "cell_type": "markdown",
   "metadata": {},
   "source": [
    "### Analyzing our Targets"
   ]
  },
  {
   "cell_type": "markdown",
   "metadata": {},
   "source": [
    "Now let's take a look at our targets"
   ]
  },
  {
   "cell_type": "code",
   "execution_count": 102,
   "metadata": {
    "collapsed": false
   },
   "outputs": [
    {
     "data": {
      "image/png": "[encoded data removed]",
      "text/plain": [
       "<matplotlib.figure.Figure at 0x7f1191ce8f28>"
      ]
     },
     "metadata": {},
     "output_type": "display_data"
    }
   ],
   "source": [
    "posts_df['post_impressions_organic_unique'].plot.hist(bins=30)\n",
    "plt.show()"
   ]
  },
  {
   "cell_type": "code",
   "execution_count": 103,
   "metadata": {
    "collapsed": false
   },
   "outputs": [
    {
     "data": {
      "text/plain": [
       "count    8.639000e+03\n",
       "mean     4.464460e+04\n",
       "std      4.047802e+04\n",
       "min      0.000000e+00\n",
       "25%      2.483950e+04\n",
       "50%      3.911900e+04\n",
       "75%      5.808000e+04\n",
       "max      1.868728e+06\n",
       "Name: post_impressions_organic_unique, dtype: float64"
      ]
     },
     "execution_count": 103,
     "metadata": {},
     "output_type": "execute_result"
    }
   ],
   "source": [
    "posts_df['post_impressions_organic_unique'].describe()"
   ]
  },
  {
   "cell_type": "markdown",
   "metadata": {},
   "source": [
    "Note that the max value is orders of magnitude greater than the mean, so we have some outliers to deal with. We will 'winsorize' the series by reseting the outliers to perhaps the .5th and 99.5th percentile values."
   ]
  },
  {
   "cell_type": "code",
   "execution_count": 104,
   "metadata": {
    "collapsed": false
   },
   "outputs": [],
   "source": [
    "posts_df['post_impressions_organic_unique'] = stats.mstats.winsorize(posts_df['post_impressions_organic_unique'],limits=[0.005, 0.005])"
   ]
  },
  {
   "cell_type": "code",
   "execution_count": 105,
   "metadata": {
    "collapsed": false
   },
   "outputs": [
    {
     "data": {
      "image/png": "[encoded data removed]",
      "text/plain": [
       "<matplotlib.figure.Figure at 0x7f1192d85eb8>"
      ]
     },
     "metadata": {},
     "output_type": "display_data"
    }
   ],
   "source": [
    "posts_df['post_impressions_organic_unique'].plot.hist(bins=30)\n",
    "plt.show()"
   ]
  },
  {
   "cell_type": "code",
   "execution_count": 106,
   "metadata": {
    "collapsed": false
   },
   "outputs": [
    {
     "data": {
      "text/plain": [
       "count      8639.000000\n",
       "mean      43689.199444\n",
       "std       24958.741127\n",
       "min        3910.000000\n",
       "25%       24839.500000\n",
       "50%       39119.000000\n",
       "75%       58080.000000\n",
       "max      131686.000000\n",
       "Name: post_impressions_organic_unique, dtype: float64"
      ]
     },
     "execution_count": 106,
     "metadata": {},
     "output_type": "execute_result"
    }
   ],
   "source": [
    "posts_df['post_impressions_organic_unique'].describe()"
   ]
  },
  {
   "cell_type": "code",
   "execution_count": 107,
   "metadata": {
    "collapsed": false
   },
   "outputs": [
    {
     "data": {
      "text/plain": [
       "0.88174613024310544"
      ]
     },
     "execution_count": 107,
     "metadata": {},
     "output_type": "execute_result"
    }
   ],
   "source": [
    "posts_df['post_impressions_organic_unique'].skew()"
   ]
  },
  {
   "cell_type": "markdown",
   "metadata": {},
   "source": [
    "We can see the distribution clearly exhibits positive skew. Let's try a log transformation"
   ]
  },
  {
   "cell_type": "code",
   "execution_count": 108,
   "metadata": {
    "collapsed": true
   },
   "outputs": [],
   "source": [
    "posts_df['log_piou'] = np.log(posts_df['post_impressions_organic_unique'])"
   ]
  },
  {
   "cell_type": "code",
   "execution_count": 109,
   "metadata": {
    "collapsed": false
   },
   "outputs": [
    {
     "data": {
      "image/png": "[encoded data removed]",
      "text/plain": [
       "<matplotlib.figure.Figure at 0x7f119b712630>"
      ]
     },
     "metadata": {},
     "output_type": "display_data"
    }
   ],
   "source": [
    "posts_df['log_piou'].plot.hist(bins=30)\n",
    "plt.show()"
   ]
  },
  {
   "cell_type": "code",
   "execution_count": 110,
   "metadata": {
    "collapsed": false
   },
   "outputs": [
    {
     "data": {
      "text/plain": [
       "count    8639.000000\n",
       "mean       10.502441\n",
       "std         0.647361\n",
       "min         8.271293\n",
       "25%        10.120190\n",
       "50%        10.574364\n",
       "75%        10.969577\n",
       "max        11.788176\n",
       "Name: log_piou, dtype: float64"
      ]
     },
     "execution_count": 110,
     "metadata": {},
     "output_type": "execute_result"
    }
   ],
   "source": [
    "posts_df['log_piou'].describe()"
   ]
  },
  {
   "cell_type": "markdown",
   "metadata": {},
   "source": [
    "While we still have some negative skew, we are working with something much closer to a normal distribution."
   ]
  },
  {
   "cell_type": "markdown",
   "metadata": {},
   "source": [
    "## Feature Engineering"
   ]
  },
  {
   "cell_type": "markdown",
   "metadata": {},
   "source": [
    "for starters, lets concatenate our three string columns into one so we can apply a single NLP related model for feature generation, and get rid of no longer needed columns."
   ]
  },
  {
   "cell_type": "code",
   "execution_count": 111,
   "metadata": {
    "collapsed": false
   },
   "outputs": [],
   "source": [
    "posts_df['name_message_description'] =  posts_df['name'] + ' '+ posts_df['message'] + ' ' + posts_df['description']\n",
    "posts_df = posts_df[['log_piou', 'name_message_description']]"
   ]
  },
  {
   "cell_type": "code",
   "execution_count": 112,
   "metadata": {
    "collapsed": false
   },
   "outputs": [
    {
     "data": {
      "text/html": [
       "<div>\n",
       "<table border=\"1\" class=\"dataframe\">\n",
       "  <thead>\n",
       "    <tr style=\"text-align: right;\">\n",
       "      <th></th>\n",
       "      <th>log_piou</th>\n",
       "      <th>name_message_description</th>\n",
       "    </tr>\n",
       "  </thead>\n",
       "  <tbody>\n",
       "    <tr>\n",
       "      <th>0</th>\n",
       "      <td>8.271293</td>\n",
       "      <td>Students suspended for clothing displaying Con...</td>\n",
       "    </tr>\n",
       "    <tr>\n",
       "      <th>1</th>\n",
       "      <td>8.271293</td>\n",
       "      <td>Timeline Photos Seattle Seahawks' Russell Wils...</td>\n",
       "    </tr>\n",
       "    <tr>\n",
       "      <th>2</th>\n",
       "      <td>10.533642</td>\n",
       "      <td>New forecasts still say mild winter, hot summe...</td>\n",
       "    </tr>\n",
       "    <tr>\n",
       "      <th>3</th>\n",
       "      <td>8.724858</td>\n",
       "      <td>Amazon dangles $50 tablet computer to hook mor...</td>\n",
       "    </tr>\n",
       "    <tr>\n",
       "      <th>4</th>\n",
       "      <td>9.888475</td>\n",
       "      <td>Earth's record streak of record heat keeps on ...</td>\n",
       "    </tr>\n",
       "  </tbody>\n",
       "</table>\n",
       "</div>"
      ],
      "text/plain": [
       "    log_piou                           name_message_description\n",
       "0   8.271293  Students suspended for clothing displaying Con...\n",
       "1   8.271293  Timeline Photos Seattle Seahawks' Russell Wils...\n",
       "2  10.533642  New forecasts still say mild winter, hot summe...\n",
       "3   8.724858  Amazon dangles $50 tablet computer to hook mor...\n",
       "4   9.888475  Earth's record streak of record heat keeps on ..."
      ]
     },
     "execution_count": 112,
     "metadata": {},
     "output_type": "execute_result"
    }
   ],
   "source": [
    "posts_df.head()"
   ]
  },
  {
   "cell_type": "markdown",
   "metadata": {
    "collapsed": true
   },
   "source": [
    "### Topic Modeling"
   ]
  },
  {
   "cell_type": "markdown",
   "metadata": {},
   "source": [
    "Let's try to abstract out the topic of each post and categorical features around it. We'll use Latent Dirichlet Allocation (LDA).\n",
    "\n",
    "please see:\n",
    "\n",
    "http://scikit-learn.org/stable/auto_examples/applications/plot_topics_extraction_with_nmf_lda.html#sphx-glr-auto-examples-applications-plot-topics-extraction-with-nmf-lda-py"
   ]
  },
  {
   "cell_type": "markdown",
   "metadata": {},
   "source": [
    "Now we'll clean up the strings in the message and description columns for further processing,\n",
    "We are going to remove a list of 'stop' words which are common words which carry little information. \n",
    " "
   ]
  },
  {
   "cell_type": "code",
   "execution_count": 113,
   "metadata": {
    "collapsed": false
   },
   "outputs": [],
   "source": [
    "\n",
    "\n",
    "\n",
    "stop = set(stopwords.words('english'))\n",
    "exclude = set(string.punctuation)\n",
    "lemma = WordNetLemmatizer()\n",
    "def clean(doc):\n",
    "    stop_free = \" \".join([i for i in doc.lower().split() if i not in stop])\n",
    "    punc_free = ''.join(ch for ch in stop_free if ch not in exclude)\n",
    "    normalized = \" \".join(lemma.lemmatize(word) for word in punc_free.split())\n",
    "    return normalized\n",
    "\n"
   ]
  },
  {
   "cell_type": "code",
   "execution_count": 114,
   "metadata": {
    "collapsed": false
   },
   "outputs": [
    {
     "data": {
      "text/html": [
       "<div>\n",
       "<table border=\"1\" class=\"dataframe\">\n",
       "  <thead>\n",
       "    <tr style=\"text-align: right;\">\n",
       "      <th></th>\n",
       "      <th>log_piou</th>\n",
       "      <th>name_message_description</th>\n",
       "    </tr>\n",
       "  </thead>\n",
       "  <tbody>\n",
       "    <tr>\n",
       "      <th>0</th>\n",
       "      <td>8.271293</td>\n",
       "      <td>student suspended clothing displaying confeder...</td>\n",
       "    </tr>\n",
       "    <tr>\n",
       "      <th>1</th>\n",
       "      <td>8.271293</td>\n",
       "      <td>timeline photo seattle seahawks russell wilson...</td>\n",
       "    </tr>\n",
       "    <tr>\n",
       "      <th>2</th>\n",
       "      <td>10.533642</td>\n",
       "      <td>new forecast still say mild winter hot summer ...</td>\n",
       "    </tr>\n",
       "    <tr>\n",
       "      <th>3</th>\n",
       "      <td>8.724858</td>\n",
       "      <td>amazon dangles 50 tablet computer hook consume...</td>\n",
       "    </tr>\n",
       "    <tr>\n",
       "      <th>4</th>\n",
       "      <td>9.888475</td>\n",
       "      <td>earth record streak record heat keep sizzling ...</td>\n",
       "    </tr>\n",
       "  </tbody>\n",
       "</table>\n",
       "</div>"
      ],
      "text/plain": [
       "    log_piou                           name_message_description\n",
       "0   8.271293  student suspended clothing displaying confeder...\n",
       "1   8.271293  timeline photo seattle seahawks russell wilson...\n",
       "2  10.533642  new forecast still say mild winter hot summer ...\n",
       "3   8.724858  amazon dangles 50 tablet computer hook consume...\n",
       "4   9.888475  earth record streak record heat keep sizzling ..."
      ]
     },
     "execution_count": 114,
     "metadata": {},
     "output_type": "execute_result"
    }
   ],
   "source": [
    "posts_df['name_message_description'] = posts_df['name_message_description'].apply(lambda x: clean(x))\n",
    "posts_df.head()"
   ]
  },
  {
   "cell_type": "markdown",
   "metadata": {},
   "source": [
    "First are going to treat each string as a bag of words and convert it to  need to a fixed length vector. "
   ]
  },
  {
   "cell_type": "code",
   "execution_count": 200,
   "metadata": {
    "collapsed": false
   },
   "outputs": [],
   "source": [
    "documents = posts_df['name_message_description']\n",
    "num_features = 1000\n",
    "\n",
    "tf_vectorizer = CountVectorizer(max_df=0.95, min_df=2, max_features=num_features, stop_words='english')\n",
    "tf = tf_vectorizer.fit_transform(documents)\n",
    "tf_feature_names = tf_vectorizer.get_feature_names()\n",
    "\n"
   ]
  },
  {
   "cell_type": "markdown",
   "metadata": {},
   "source": [
    "Now we train the LDA model to extract topics."
   ]
  },
  {
   "cell_type": "code",
   "execution_count": 217,
   "metadata": {
    "collapsed": false
   },
   "outputs": [
    {
     "name": "stderr",
     "output_type": "stream",
     "text": [
      "/home/tmarble/anaconda3/lib/python3.5/site-packages/sklearn/decomposition/online_lda.py:294: DeprecationWarning: n_topics has been renamed to n_components in version 0.19 and will be removed in 0.21\n",
      "  DeprecationWarning)\n"
     ]
    }
   ],
   "source": [
    "num_topics = 4\n",
    "\n",
    "lda = LatentDirichletAllocation(n_topics=num_topics, max_iter=5, learning_method='online', learning_offset=50.,random_state=0).fit(tf)"
   ]
  },
  {
   "cell_type": "code",
   "execution_count": 218,
   "metadata": {
    "collapsed": false
   },
   "outputs": [],
   "source": [
    "\n",
    "def display_topics(model, feature_names, no_top_words):\n",
    "    for topic_idx, topic in enumerate(model.components_):\n",
    "        print(\"Topic {:d}:\".format(topic_idx))\n",
    "        print(\" \".join([feature_names[i]\n",
    "                        for i in topic.argsort()[:-no_top_words - 1:-1]]))\n",
    "\n",
    "no_top_words = 10\n",
    "#display_topics(lda, tf_feature_names, no_top_words)\n"
   ]
  },
  {
   "cell_type": "markdown",
   "metadata": {},
   "source": [
    "Lets apply the lda model to a sample of our post texts to understand what is happening. Basically we transform the text into a vector of length num_topics, whose values can be interpreted as the likely relevance to the topic in the model which shares the value's index."
   ]
  },
  {
   "cell_type": "code",
   "execution_count": 219,
   "metadata": {
    "collapsed": false
   },
   "outputs": [
    {
     "data": {
      "text/plain": [
       "0    student suspended clothing displaying confeder...\n",
       "1    timeline photo seattle seahawks russell wilson...\n",
       "2    new forecast still say mild winter hot summer ...\n",
       "3    amazon dangles 50 tablet computer hook consume...\n",
       "4    earth record streak record heat keep sizzling ...\n",
       "Name: name_message_description, dtype: object"
      ]
     },
     "execution_count": 219,
     "metadata": {},
     "output_type": "execute_result"
    }
   ],
   "source": [
    "msgs = posts_df['name_message_description'][:5]\n",
    "msgs"
   ]
  },
  {
   "cell_type": "code",
   "execution_count": 220,
   "metadata": {
    "collapsed": false
   },
   "outputs": [
    {
     "data": {
      "text/plain": [
       "array([ 0.01296118,  0.36275048,  0.61314464,  0.01114371])"
      ]
     },
     "execution_count": 220,
     "metadata": {},
     "output_type": "execute_result"
    }
   ],
   "source": [
    "msgs_tpcs = lda.transform(tf_vectorizer.transform(msgs))\n",
    "msgs_tpcs[2]"
   ]
  },
  {
   "cell_type": "markdown",
   "metadata": {},
   "source": [
    "We can see that for this message, We can take the argmax of each row to get the most likely topic, but let's try working with the continuous values first and and them as features."
   ]
  },
  {
   "cell_type": "code",
   "execution_count": 221,
   "metadata": {
    "collapsed": false
   },
   "outputs": [],
   "source": [
    "topic_arrs = lda.transform(tf_vectorizer.transform(documents))\n",
    "topic_names=[]\n",
    "for i in range(num_topics):\n",
    "    topic_name = 'topic_{}'.format(str(i))\n",
    "    topic_names.append(topic_name)\n",
    "\n",
    "\n"
   ]
  },
  {
   "cell_type": "markdown",
   "metadata": {},
   "source": [
    "## Model Training and Validation"
   ]
  },
  {
   "cell_type": "markdown",
   "metadata": {},
   "source": [
    "Now let's train a Random Forest model on the data as a starting point. Random Forest has some desirable properties such as handling feature interactions well and avoiding overfitting. We'll train on the first 80% of the data, and hold out the remaining 20% as a test set. As the underlying data is time-ordered, we will be careful to use the chronologically earlier data for training and vice versa.\n",
    "\n",
    "We will then generate a set of metric tailored to regression problems, as we are predicting a continuous variable. These will give us a baseline for model tuning and further improvement throught the addtion of additional features, and to compare with different models."
   ]
  },
  {
   "cell_type": "code",
   "execution_count": 222,
   "metadata": {
    "collapsed": false
   },
   "outputs": [],
   "source": [
    "\n",
    "\n",
    "M = len(posts_df)\n",
    "num_train = int(M*.8)\n",
    "x_scaler = StandardScaler()\n",
    "y_scaler = StandardScaler()\n",
    "\n",
    "X = pd.DataFrame(topic_arrs,columns=topic_names)\n",
    "Y = posts_df['log_piou']\n",
    "\n",
    "X_train = X[-num_train:]\n",
    "X_train = x_scaler.fit_transform(X_train)\n",
    "\n",
    "X_test = X[:-num_train]\n",
    "X_test = x_scaler.transform(X_test)\n",
    "\n",
    "Y_train = Y[-num_train:]\n",
    "#Y_train = y_scaler.fit_transform(Y_train.reshape(-1,1))\n",
    "\n",
    "Y_test = Y[:-num_train]\n",
    "#Y_test = y_scaler.transform(Y_test.reshape(-1,1))\n"
   ]
  },
  {
   "cell_type": "code",
   "execution_count": 223,
   "metadata": {
    "collapsed": false
   },
   "outputs": [],
   "source": [
    "\n",
    "model = RandomForestRegressor().fit(X_train, Y_train)"
   ]
  },
  {
   "cell_type": "code",
   "execution_count": 224,
   "metadata": {
    "collapsed": false
   },
   "outputs": [],
   "source": [
    "y_pred = model.predict(X_test)"
   ]
  },
  {
   "cell_type": "code",
   "execution_count": 225,
   "metadata": {
    "collapsed": false
   },
   "outputs": [
    {
     "name": "stdout",
     "output_type": "stream",
     "text": [
      "explained_variance -0.237131315187\n",
      "neg_mean_absolute_error 0.53406544641\n",
      "neg_mean_squared_error 0.454240667016\n",
      "neg_median_absolute_error 0.447046271506\n",
      "r2 -0.265645272896\n"
     ]
    }
   ],
   "source": [
    "\n",
    "print('explained_variance', explained_variance_score(Y_test, y_pred))\n",
    "print('neg_mean_absolute_error', mean_absolute_error(Y_test, y_pred) )\n",
    "print('neg_mean_squared_error',  mean_squared_error(Y_test, y_pred)) \n",
    "print('neg_median_absolute_error', median_absolute_error(Y_test, y_pred)) \n",
    "print('r2', r2_score(Y_test, y_pred))"
   ]
  },
  {
   "cell_type": "code",
   "execution_count": 226,
   "metadata": {
    "collapsed": false
   },
   "outputs": [
    {
     "data": {
      "text/plain": [
       "<matplotlib.collections.PathCollection at 0x7f11a6a78400>"
      ]
     },
     "execution_count": 226,
     "metadata": {},
     "output_type": "execute_result"
    },
    {
     "data": {
      "image/png": "[encoded data removed]",
      "text/plain": [
       "<matplotlib.figure.Figure at 0x7f11976bf668>"
      ]
     },
     "metadata": {},
     "output_type": "display_data"
    }
   ],
   "source": [
    "plt.scatter(Y_test, y_pred)\n",
    "\n"
   ]
  },
  {
   "cell_type": "markdown",
   "metadata": {},
   "source": [
    "## Discussion and Where To Go Next"
   ]
  },
  {
   "cell_type": "markdown",
   "metadata": {
    "collapsed": false
   },
   "source": [
    "Random Forest, is a good default starting point, but is not necessarily the perfect model for this problem. Number one, the feature space we have generated is perhaps most similar to a 'one-hot encoded' vector, as it would be if we discretized the output from LDA. In this case there would be no feature interactions to consider, so much of the advantage would be moot. A better choice in this case might be a simple Logistic Regression model. \n",
    "\n",
    "One obvious starting point to expand out feature space is the 'created_time' variable, which lends itself to many feature extractions and transformations such as Hour of Day and Day of Week in addition to features related arrival rate of posts and changes thereof. As we expand the feature space, ensemble models such as Random Forest will see greater utility. Additionally, as we add features it will be important to discern the relative goodness of features, and for this the Feature Importance will be very useful.\n",
    "\n",
    "Our model considers the information content of probabilistic topic assignment. A major flaw, though is that is does not consider nor take advantage of the intertemporal nature of this dataset, treating old and newer data equally. A more thoughtful solution to this problem might for example be a Recurrent Neural Network (RNN) perhaps implemented in Tensorflow, which would do a better job of iterativly 'learning' and model the time evolution of our signals. \n",
    "\n",
    "In reality we should appreciate the fluid and changing nature of topic 'hotness' over time, and making a quantitative metrics and predictions at the level of Topic, which we then use as a more intuitive feature. This could be done for example by for each of our topics, regressing historical values over a rolling time period of the topic relevance scores generated by LDA against historical organinc unique impressions (or whatever the best target metric may be), and further measuring changes in the regression coefficients to determine which way topics are trending. \n",
    "\n",
    "   \n",
    "\n",
    "    \n",
    "-\n",
    "         \n",
    "         \n",
    "         \n",
    "\n",
    "         \n",
    "         "
   ]
  }
 ],
 "metadata": {
  "anaconda-cloud": {},
  "kernelspec": {
   "display_name": "Python [Root]",
   "language": "python",
   "name": "Python [Root]"
  },
  "language_info": {
   "codemirror_mode": {
    "name": "ipython",
    "version": 3
   },
   "file_extension": ".py",
   "mimetype": "text/x-python",
   "name": "python",
   "nbconvert_exporter": "python",
   "pygments_lexer": "ipython3",
   "version": "3.5.2"
  }
 },
 "nbformat": 4,
 "nbformat_minor": 0
}
